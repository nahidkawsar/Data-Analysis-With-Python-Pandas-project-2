{
 "cells": [
  {
   "cell_type": "code",
   "execution_count": 2,
   "id": "4d7809c1-5f5c-4d00-935b-6f963d64f8d1",
   "metadata": {},
   "outputs": [],
   "source": [
    "import pandas as pd\n",
    "import numpy as np"
   ]
  },
  {
   "cell_type": "code",
   "execution_count": 3,
   "id": "441887ce-ac5f-4745-9448-392f243d37e9",
   "metadata": {},
   "outputs": [],
   "source": [
    "data=pd.read_csv(\"Ecommerce_Purchases\")"
   ]
  },
  {
   "cell_type": "code",
   "execution_count": 4,
   "id": "39d83f47-576c-46c6-9421-e1f453dc69a8",
   "metadata": {},
   "outputs": [
    {
     "data": {
      "text/html": [
       "<div>\n",
       "<style scoped>\n",
       "    .dataframe tbody tr th:only-of-type {\n",
       "        vertical-align: middle;\n",
       "    }\n",
       "\n",
       "    .dataframe tbody tr th {\n",
       "        vertical-align: top;\n",
       "    }\n",
       "\n",
       "    .dataframe thead th {\n",
       "        text-align: right;\n",
       "    }\n",
       "</style>\n",
       "<table border=\"1\" class=\"dataframe\">\n",
       "  <thead>\n",
       "    <tr style=\"text-align: right;\">\n",
       "      <th></th>\n",
       "      <th>Address</th>\n",
       "      <th>Lot</th>\n",
       "      <th>AM or PM</th>\n",
       "      <th>Browser Info</th>\n",
       "      <th>Company</th>\n",
       "      <th>Credit Card</th>\n",
       "      <th>CC Exp Date</th>\n",
       "      <th>CC Security Code</th>\n",
       "      <th>CC Provider</th>\n",
       "      <th>Email</th>\n",
       "      <th>Job</th>\n",
       "      <th>IP Address</th>\n",
       "      <th>Language</th>\n",
       "      <th>Purchase Price</th>\n",
       "    </tr>\n",
       "  </thead>\n",
       "  <tbody>\n",
       "    <tr>\n",
       "      <th>0</th>\n",
       "      <td>16629 Pace Camp Apt. 448\\nAlexisborough, NE 77...</td>\n",
       "      <td>46 in</td>\n",
       "      <td>PM</td>\n",
       "      <td>Opera/9.56.(X11; Linux x86_64; sl-SI) Presto/2...</td>\n",
       "      <td>Martinez-Herman</td>\n",
       "      <td>6011929061123406</td>\n",
       "      <td>02/20</td>\n",
       "      <td>900</td>\n",
       "      <td>JCB 16 digit</td>\n",
       "      <td>pdunlap@yahoo.com</td>\n",
       "      <td>Scientist, product/process development</td>\n",
       "      <td>149.146.147.205</td>\n",
       "      <td>el</td>\n",
       "      <td>98.14</td>\n",
       "    </tr>\n",
       "    <tr>\n",
       "      <th>1</th>\n",
       "      <td>9374 Jasmine Spurs Suite 508\\nSouth John, TN 8...</td>\n",
       "      <td>28 rn</td>\n",
       "      <td>PM</td>\n",
       "      <td>Opera/8.93.(Windows 98; Win 9x 4.90; en-US) Pr...</td>\n",
       "      <td>Fletcher, Richards and Whitaker</td>\n",
       "      <td>3337758169645356</td>\n",
       "      <td>11/18</td>\n",
       "      <td>561</td>\n",
       "      <td>Mastercard</td>\n",
       "      <td>anthony41@reed.com</td>\n",
       "      <td>Drilling engineer</td>\n",
       "      <td>15.160.41.51</td>\n",
       "      <td>fr</td>\n",
       "      <td>70.73</td>\n",
       "    </tr>\n",
       "    <tr>\n",
       "      <th>2</th>\n",
       "      <td>Unit 0065 Box 5052\\nDPO AP 27450</td>\n",
       "      <td>94 vE</td>\n",
       "      <td>PM</td>\n",
       "      <td>Mozilla/5.0 (compatible; MSIE 9.0; Windows NT ...</td>\n",
       "      <td>Simpson, Williams and Pham</td>\n",
       "      <td>675957666125</td>\n",
       "      <td>08/19</td>\n",
       "      <td>699</td>\n",
       "      <td>JCB 16 digit</td>\n",
       "      <td>amymiller@morales-harrison.com</td>\n",
       "      <td>Customer service manager</td>\n",
       "      <td>132.207.160.22</td>\n",
       "      <td>de</td>\n",
       "      <td>0.95</td>\n",
       "    </tr>\n",
       "    <tr>\n",
       "      <th>3</th>\n",
       "      <td>7780 Julia Fords\\nNew Stacy, WA 45798</td>\n",
       "      <td>36 vm</td>\n",
       "      <td>PM</td>\n",
       "      <td>Mozilla/5.0 (Macintosh; Intel Mac OS X 10_8_0 ...</td>\n",
       "      <td>Williams, Marshall and Buchanan</td>\n",
       "      <td>6011578504430710</td>\n",
       "      <td>02/24</td>\n",
       "      <td>384</td>\n",
       "      <td>Discover</td>\n",
       "      <td>brent16@olson-robinson.info</td>\n",
       "      <td>Drilling engineer</td>\n",
       "      <td>30.250.74.19</td>\n",
       "      <td>es</td>\n",
       "      <td>78.04</td>\n",
       "    </tr>\n",
       "    <tr>\n",
       "      <th>4</th>\n",
       "      <td>23012 Munoz Drive Suite 337\\nNew Cynthia, TX 5...</td>\n",
       "      <td>20 IE</td>\n",
       "      <td>AM</td>\n",
       "      <td>Opera/9.58.(X11; Linux x86_64; it-IT) Presto/2...</td>\n",
       "      <td>Brown, Watson and Andrews</td>\n",
       "      <td>6011456623207998</td>\n",
       "      <td>10/25</td>\n",
       "      <td>678</td>\n",
       "      <td>Diners Club / Carte Blanche</td>\n",
       "      <td>christopherwright@gmail.com</td>\n",
       "      <td>Fine artist</td>\n",
       "      <td>24.140.33.94</td>\n",
       "      <td>es</td>\n",
       "      <td>77.82</td>\n",
       "    </tr>\n",
       "    <tr>\n",
       "      <th>...</th>\n",
       "      <td>...</td>\n",
       "      <td>...</td>\n",
       "      <td>...</td>\n",
       "      <td>...</td>\n",
       "      <td>...</td>\n",
       "      <td>...</td>\n",
       "      <td>...</td>\n",
       "      <td>...</td>\n",
       "      <td>...</td>\n",
       "      <td>...</td>\n",
       "      <td>...</td>\n",
       "      <td>...</td>\n",
       "      <td>...</td>\n",
       "      <td>...</td>\n",
       "    </tr>\n",
       "    <tr>\n",
       "      <th>9995</th>\n",
       "      <td>966 Castaneda Locks\\nWest Juliafurt, CO 96415</td>\n",
       "      <td>92 XI</td>\n",
       "      <td>PM</td>\n",
       "      <td>Mozilla/5.0 (Windows NT 5.1) AppleWebKit/5352 ...</td>\n",
       "      <td>Randall-Sloan</td>\n",
       "      <td>342945015358701</td>\n",
       "      <td>03/22</td>\n",
       "      <td>838</td>\n",
       "      <td>JCB 15 digit</td>\n",
       "      <td>iscott@wade-garner.com</td>\n",
       "      <td>Printmaker</td>\n",
       "      <td>29.73.197.114</td>\n",
       "      <td>it</td>\n",
       "      <td>82.21</td>\n",
       "    </tr>\n",
       "    <tr>\n",
       "      <th>9996</th>\n",
       "      <td>832 Curtis Dam Suite 785\\nNorth Edwardburgh, T...</td>\n",
       "      <td>41 JY</td>\n",
       "      <td>AM</td>\n",
       "      <td>Mozilla/5.0 (compatible; MSIE 9.0; Windows NT ...</td>\n",
       "      <td>Hale, Collins and Wilson</td>\n",
       "      <td>210033169205009</td>\n",
       "      <td>07/25</td>\n",
       "      <td>207</td>\n",
       "      <td>JCB 16 digit</td>\n",
       "      <td>mary85@hotmail.com</td>\n",
       "      <td>Energy engineer</td>\n",
       "      <td>121.133.168.51</td>\n",
       "      <td>pt</td>\n",
       "      <td>25.63</td>\n",
       "    </tr>\n",
       "    <tr>\n",
       "      <th>9997</th>\n",
       "      <td>Unit 4434 Box 6343\\nDPO AE 28026-0283</td>\n",
       "      <td>74 Zh</td>\n",
       "      <td>AM</td>\n",
       "      <td>Mozilla/5.0 (Macintosh; U; Intel Mac OS X 10_7...</td>\n",
       "      <td>Anderson Ltd</td>\n",
       "      <td>6011539787356311</td>\n",
       "      <td>05/21</td>\n",
       "      <td>1</td>\n",
       "      <td>VISA 16 digit</td>\n",
       "      <td>tyler16@gmail.com</td>\n",
       "      <td>Veterinary surgeon</td>\n",
       "      <td>156.210.0.254</td>\n",
       "      <td>el</td>\n",
       "      <td>83.98</td>\n",
       "    </tr>\n",
       "    <tr>\n",
       "      <th>9998</th>\n",
       "      <td>0096 English Rest\\nRoystad, IA 12457</td>\n",
       "      <td>74 cL</td>\n",
       "      <td>PM</td>\n",
       "      <td>Mozilla/5.0 (Macintosh; Intel Mac OS X 10_8_8;...</td>\n",
       "      <td>Cook Inc</td>\n",
       "      <td>180003348082930</td>\n",
       "      <td>11/17</td>\n",
       "      <td>987</td>\n",
       "      <td>American Express</td>\n",
       "      <td>elizabethmoore@reid.net</td>\n",
       "      <td>Local government officer</td>\n",
       "      <td>55.78.26.143</td>\n",
       "      <td>es</td>\n",
       "      <td>38.84</td>\n",
       "    </tr>\n",
       "    <tr>\n",
       "      <th>9999</th>\n",
       "      <td>40674 Barrett Stravenue\\nGrimesville, WI 79682</td>\n",
       "      <td>64 Hr</td>\n",
       "      <td>AM</td>\n",
       "      <td>Mozilla/5.0 (X11; Linux i686; rv:1.9.5.20) Gec...</td>\n",
       "      <td>Greene Inc</td>\n",
       "      <td>4139972901927273</td>\n",
       "      <td>02/19</td>\n",
       "      <td>302</td>\n",
       "      <td>JCB 15 digit</td>\n",
       "      <td>rachelford@vaughn.com</td>\n",
       "      <td>Embryologist, clinical</td>\n",
       "      <td>176.119.198.199</td>\n",
       "      <td>el</td>\n",
       "      <td>67.59</td>\n",
       "    </tr>\n",
       "  </tbody>\n",
       "</table>\n",
       "<p>10000 rows × 14 columns</p>\n",
       "</div>"
      ],
      "text/plain": [
       "                                                Address    Lot AM or PM  \\\n",
       "0     16629 Pace Camp Apt. 448\\nAlexisborough, NE 77...  46 in       PM   \n",
       "1     9374 Jasmine Spurs Suite 508\\nSouth John, TN 8...  28 rn       PM   \n",
       "2                      Unit 0065 Box 5052\\nDPO AP 27450  94 vE       PM   \n",
       "3                 7780 Julia Fords\\nNew Stacy, WA 45798  36 vm       PM   \n",
       "4     23012 Munoz Drive Suite 337\\nNew Cynthia, TX 5...  20 IE       AM   \n",
       "...                                                 ...    ...      ...   \n",
       "9995      966 Castaneda Locks\\nWest Juliafurt, CO 96415  92 XI       PM   \n",
       "9996  832 Curtis Dam Suite 785\\nNorth Edwardburgh, T...  41 JY       AM   \n",
       "9997              Unit 4434 Box 6343\\nDPO AE 28026-0283  74 Zh       AM   \n",
       "9998               0096 English Rest\\nRoystad, IA 12457  74 cL       PM   \n",
       "9999     40674 Barrett Stravenue\\nGrimesville, WI 79682  64 Hr       AM   \n",
       "\n",
       "                                           Browser Info  \\\n",
       "0     Opera/9.56.(X11; Linux x86_64; sl-SI) Presto/2...   \n",
       "1     Opera/8.93.(Windows 98; Win 9x 4.90; en-US) Pr...   \n",
       "2     Mozilla/5.0 (compatible; MSIE 9.0; Windows NT ...   \n",
       "3     Mozilla/5.0 (Macintosh; Intel Mac OS X 10_8_0 ...   \n",
       "4     Opera/9.58.(X11; Linux x86_64; it-IT) Presto/2...   \n",
       "...                                                 ...   \n",
       "9995  Mozilla/5.0 (Windows NT 5.1) AppleWebKit/5352 ...   \n",
       "9996  Mozilla/5.0 (compatible; MSIE 9.0; Windows NT ...   \n",
       "9997  Mozilla/5.0 (Macintosh; U; Intel Mac OS X 10_7...   \n",
       "9998  Mozilla/5.0 (Macintosh; Intel Mac OS X 10_8_8;...   \n",
       "9999  Mozilla/5.0 (X11; Linux i686; rv:1.9.5.20) Gec...   \n",
       "\n",
       "                              Company       Credit Card CC Exp Date  \\\n",
       "0                     Martinez-Herman  6011929061123406       02/20   \n",
       "1     Fletcher, Richards and Whitaker  3337758169645356       11/18   \n",
       "2          Simpson, Williams and Pham      675957666125       08/19   \n",
       "3     Williams, Marshall and Buchanan  6011578504430710       02/24   \n",
       "4           Brown, Watson and Andrews  6011456623207998       10/25   \n",
       "...                               ...               ...         ...   \n",
       "9995                    Randall-Sloan   342945015358701       03/22   \n",
       "9996         Hale, Collins and Wilson   210033169205009       07/25   \n",
       "9997                     Anderson Ltd  6011539787356311       05/21   \n",
       "9998                         Cook Inc   180003348082930       11/17   \n",
       "9999                       Greene Inc  4139972901927273       02/19   \n",
       "\n",
       "      CC Security Code                  CC Provider  \\\n",
       "0                  900                 JCB 16 digit   \n",
       "1                  561                   Mastercard   \n",
       "2                  699                 JCB 16 digit   \n",
       "3                  384                     Discover   \n",
       "4                  678  Diners Club / Carte Blanche   \n",
       "...                ...                          ...   \n",
       "9995               838                 JCB 15 digit   \n",
       "9996               207                 JCB 16 digit   \n",
       "9997                 1                VISA 16 digit   \n",
       "9998               987             American Express   \n",
       "9999               302                 JCB 15 digit   \n",
       "\n",
       "                               Email                                     Job  \\\n",
       "0                  pdunlap@yahoo.com  Scientist, product/process development   \n",
       "1                 anthony41@reed.com                       Drilling engineer   \n",
       "2     amymiller@morales-harrison.com                Customer service manager   \n",
       "3        brent16@olson-robinson.info                       Drilling engineer   \n",
       "4        christopherwright@gmail.com                             Fine artist   \n",
       "...                              ...                                     ...   \n",
       "9995          iscott@wade-garner.com                              Printmaker   \n",
       "9996              mary85@hotmail.com                         Energy engineer   \n",
       "9997               tyler16@gmail.com                      Veterinary surgeon   \n",
       "9998         elizabethmoore@reid.net                Local government officer   \n",
       "9999           rachelford@vaughn.com                  Embryologist, clinical   \n",
       "\n",
       "           IP Address Language  Purchase Price  \n",
       "0     149.146.147.205       el           98.14  \n",
       "1        15.160.41.51       fr           70.73  \n",
       "2      132.207.160.22       de            0.95  \n",
       "3        30.250.74.19       es           78.04  \n",
       "4        24.140.33.94       es           77.82  \n",
       "...               ...      ...             ...  \n",
       "9995    29.73.197.114       it           82.21  \n",
       "9996   121.133.168.51       pt           25.63  \n",
       "9997    156.210.0.254       el           83.98  \n",
       "9998     55.78.26.143       es           38.84  \n",
       "9999  176.119.198.199       el           67.59  \n",
       "\n",
       "[10000 rows x 14 columns]"
      ]
     },
     "execution_count": 4,
     "metadata": {},
     "output_type": "execute_result"
    }
   ],
   "source": [
    "data"
   ]
  },
  {
   "cell_type": "code",
   "execution_count": 5,
   "id": "80ec6e30-180d-43ea-9939-d9120382402d",
   "metadata": {},
   "outputs": [
    {
     "data": {
      "text/plain": [
       "(10000, 14)"
      ]
     },
     "execution_count": 5,
     "metadata": {},
     "output_type": "execute_result"
    }
   ],
   "source": [
    "data.shape"
   ]
  },
  {
   "cell_type": "code",
   "execution_count": 6,
   "id": "200b8aa5-27d4-4057-8e96-b06540c5ade1",
   "metadata": {},
   "outputs": [
    {
     "data": {
      "text/html": [
       "<div>\n",
       "<style scoped>\n",
       "    .dataframe tbody tr th:only-of-type {\n",
       "        vertical-align: middle;\n",
       "    }\n",
       "\n",
       "    .dataframe tbody tr th {\n",
       "        vertical-align: top;\n",
       "    }\n",
       "\n",
       "    .dataframe thead th {\n",
       "        text-align: right;\n",
       "    }\n",
       "</style>\n",
       "<table border=\"1\" class=\"dataframe\">\n",
       "  <thead>\n",
       "    <tr style=\"text-align: right;\">\n",
       "      <th></th>\n",
       "      <th>Address</th>\n",
       "      <th>Lot</th>\n",
       "      <th>AM or PM</th>\n",
       "      <th>Browser Info</th>\n",
       "      <th>Company</th>\n",
       "      <th>Credit Card</th>\n",
       "      <th>CC Exp Date</th>\n",
       "      <th>CC Security Code</th>\n",
       "      <th>CC Provider</th>\n",
       "      <th>Email</th>\n",
       "      <th>Job</th>\n",
       "      <th>IP Address</th>\n",
       "      <th>Language</th>\n",
       "      <th>Purchase Price</th>\n",
       "    </tr>\n",
       "  </thead>\n",
       "  <tbody>\n",
       "    <tr>\n",
       "      <th>0</th>\n",
       "      <td>16629 Pace Camp Apt. 448\\nAlexisborough, NE 77...</td>\n",
       "      <td>46 in</td>\n",
       "      <td>PM</td>\n",
       "      <td>Opera/9.56.(X11; Linux x86_64; sl-SI) Presto/2...</td>\n",
       "      <td>Martinez-Herman</td>\n",
       "      <td>6011929061123406</td>\n",
       "      <td>02/20</td>\n",
       "      <td>900</td>\n",
       "      <td>JCB 16 digit</td>\n",
       "      <td>pdunlap@yahoo.com</td>\n",
       "      <td>Scientist, product/process development</td>\n",
       "      <td>149.146.147.205</td>\n",
       "      <td>el</td>\n",
       "      <td>98.14</td>\n",
       "    </tr>\n",
       "    <tr>\n",
       "      <th>1</th>\n",
       "      <td>9374 Jasmine Spurs Suite 508\\nSouth John, TN 8...</td>\n",
       "      <td>28 rn</td>\n",
       "      <td>PM</td>\n",
       "      <td>Opera/8.93.(Windows 98; Win 9x 4.90; en-US) Pr...</td>\n",
       "      <td>Fletcher, Richards and Whitaker</td>\n",
       "      <td>3337758169645356</td>\n",
       "      <td>11/18</td>\n",
       "      <td>561</td>\n",
       "      <td>Mastercard</td>\n",
       "      <td>anthony41@reed.com</td>\n",
       "      <td>Drilling engineer</td>\n",
       "      <td>15.160.41.51</td>\n",
       "      <td>fr</td>\n",
       "      <td>70.73</td>\n",
       "    </tr>\n",
       "  </tbody>\n",
       "</table>\n",
       "</div>"
      ],
      "text/plain": [
       "                                             Address    Lot AM or PM  \\\n",
       "0  16629 Pace Camp Apt. 448\\nAlexisborough, NE 77...  46 in       PM   \n",
       "1  9374 Jasmine Spurs Suite 508\\nSouth John, TN 8...  28 rn       PM   \n",
       "\n",
       "                                        Browser Info  \\\n",
       "0  Opera/9.56.(X11; Linux x86_64; sl-SI) Presto/2...   \n",
       "1  Opera/8.93.(Windows 98; Win 9x 4.90; en-US) Pr...   \n",
       "\n",
       "                           Company       Credit Card CC Exp Date  \\\n",
       "0                  Martinez-Herman  6011929061123406       02/20   \n",
       "1  Fletcher, Richards and Whitaker  3337758169645356       11/18   \n",
       "\n",
       "   CC Security Code   CC Provider               Email  \\\n",
       "0               900  JCB 16 digit   pdunlap@yahoo.com   \n",
       "1               561    Mastercard  anthony41@reed.com   \n",
       "\n",
       "                                      Job       IP Address Language  \\\n",
       "0  Scientist, product/process development  149.146.147.205       el   \n",
       "1                       Drilling engineer     15.160.41.51       fr   \n",
       "\n",
       "   Purchase Price  \n",
       "0           98.14  \n",
       "1           70.73  "
      ]
     },
     "execution_count": 6,
     "metadata": {},
     "output_type": "execute_result"
    }
   ],
   "source": [
    "data.head(2)"
   ]
  },
  {
   "cell_type": "code",
   "execution_count": 7,
   "id": "687b98c3-e823-4730-9d6d-61f3d9cb0a77",
   "metadata": {},
   "outputs": [
    {
     "data": {
      "text/html": [
       "<div>\n",
       "<style scoped>\n",
       "    .dataframe tbody tr th:only-of-type {\n",
       "        vertical-align: middle;\n",
       "    }\n",
       "\n",
       "    .dataframe tbody tr th {\n",
       "        vertical-align: top;\n",
       "    }\n",
       "\n",
       "    .dataframe thead th {\n",
       "        text-align: right;\n",
       "    }\n",
       "</style>\n",
       "<table border=\"1\" class=\"dataframe\">\n",
       "  <thead>\n",
       "    <tr style=\"text-align: right;\">\n",
       "      <th></th>\n",
       "      <th>Address</th>\n",
       "      <th>Lot</th>\n",
       "      <th>AM or PM</th>\n",
       "      <th>Browser Info</th>\n",
       "      <th>Company</th>\n",
       "      <th>Credit Card</th>\n",
       "      <th>CC Exp Date</th>\n",
       "      <th>CC Security Code</th>\n",
       "      <th>CC Provider</th>\n",
       "      <th>Email</th>\n",
       "      <th>Job</th>\n",
       "      <th>IP Address</th>\n",
       "      <th>Language</th>\n",
       "      <th>Purchase Price</th>\n",
       "    </tr>\n",
       "  </thead>\n",
       "  <tbody>\n",
       "    <tr>\n",
       "      <th>9995</th>\n",
       "      <td>966 Castaneda Locks\\nWest Juliafurt, CO 96415</td>\n",
       "      <td>92 XI</td>\n",
       "      <td>PM</td>\n",
       "      <td>Mozilla/5.0 (Windows NT 5.1) AppleWebKit/5352 ...</td>\n",
       "      <td>Randall-Sloan</td>\n",
       "      <td>342945015358701</td>\n",
       "      <td>03/22</td>\n",
       "      <td>838</td>\n",
       "      <td>JCB 15 digit</td>\n",
       "      <td>iscott@wade-garner.com</td>\n",
       "      <td>Printmaker</td>\n",
       "      <td>29.73.197.114</td>\n",
       "      <td>it</td>\n",
       "      <td>82.21</td>\n",
       "    </tr>\n",
       "    <tr>\n",
       "      <th>9996</th>\n",
       "      <td>832 Curtis Dam Suite 785\\nNorth Edwardburgh, T...</td>\n",
       "      <td>41 JY</td>\n",
       "      <td>AM</td>\n",
       "      <td>Mozilla/5.0 (compatible; MSIE 9.0; Windows NT ...</td>\n",
       "      <td>Hale, Collins and Wilson</td>\n",
       "      <td>210033169205009</td>\n",
       "      <td>07/25</td>\n",
       "      <td>207</td>\n",
       "      <td>JCB 16 digit</td>\n",
       "      <td>mary85@hotmail.com</td>\n",
       "      <td>Energy engineer</td>\n",
       "      <td>121.133.168.51</td>\n",
       "      <td>pt</td>\n",
       "      <td>25.63</td>\n",
       "    </tr>\n",
       "    <tr>\n",
       "      <th>9997</th>\n",
       "      <td>Unit 4434 Box 6343\\nDPO AE 28026-0283</td>\n",
       "      <td>74 Zh</td>\n",
       "      <td>AM</td>\n",
       "      <td>Mozilla/5.0 (Macintosh; U; Intel Mac OS X 10_7...</td>\n",
       "      <td>Anderson Ltd</td>\n",
       "      <td>6011539787356311</td>\n",
       "      <td>05/21</td>\n",
       "      <td>1</td>\n",
       "      <td>VISA 16 digit</td>\n",
       "      <td>tyler16@gmail.com</td>\n",
       "      <td>Veterinary surgeon</td>\n",
       "      <td>156.210.0.254</td>\n",
       "      <td>el</td>\n",
       "      <td>83.98</td>\n",
       "    </tr>\n",
       "    <tr>\n",
       "      <th>9998</th>\n",
       "      <td>0096 English Rest\\nRoystad, IA 12457</td>\n",
       "      <td>74 cL</td>\n",
       "      <td>PM</td>\n",
       "      <td>Mozilla/5.0 (Macintosh; Intel Mac OS X 10_8_8;...</td>\n",
       "      <td>Cook Inc</td>\n",
       "      <td>180003348082930</td>\n",
       "      <td>11/17</td>\n",
       "      <td>987</td>\n",
       "      <td>American Express</td>\n",
       "      <td>elizabethmoore@reid.net</td>\n",
       "      <td>Local government officer</td>\n",
       "      <td>55.78.26.143</td>\n",
       "      <td>es</td>\n",
       "      <td>38.84</td>\n",
       "    </tr>\n",
       "    <tr>\n",
       "      <th>9999</th>\n",
       "      <td>40674 Barrett Stravenue\\nGrimesville, WI 79682</td>\n",
       "      <td>64 Hr</td>\n",
       "      <td>AM</td>\n",
       "      <td>Mozilla/5.0 (X11; Linux i686; rv:1.9.5.20) Gec...</td>\n",
       "      <td>Greene Inc</td>\n",
       "      <td>4139972901927273</td>\n",
       "      <td>02/19</td>\n",
       "      <td>302</td>\n",
       "      <td>JCB 15 digit</td>\n",
       "      <td>rachelford@vaughn.com</td>\n",
       "      <td>Embryologist, clinical</td>\n",
       "      <td>176.119.198.199</td>\n",
       "      <td>el</td>\n",
       "      <td>67.59</td>\n",
       "    </tr>\n",
       "  </tbody>\n",
       "</table>\n",
       "</div>"
      ],
      "text/plain": [
       "                                                Address    Lot AM or PM  \\\n",
       "9995      966 Castaneda Locks\\nWest Juliafurt, CO 96415  92 XI       PM   \n",
       "9996  832 Curtis Dam Suite 785\\nNorth Edwardburgh, T...  41 JY       AM   \n",
       "9997              Unit 4434 Box 6343\\nDPO AE 28026-0283  74 Zh       AM   \n",
       "9998               0096 English Rest\\nRoystad, IA 12457  74 cL       PM   \n",
       "9999     40674 Barrett Stravenue\\nGrimesville, WI 79682  64 Hr       AM   \n",
       "\n",
       "                                           Browser Info  \\\n",
       "9995  Mozilla/5.0 (Windows NT 5.1) AppleWebKit/5352 ...   \n",
       "9996  Mozilla/5.0 (compatible; MSIE 9.0; Windows NT ...   \n",
       "9997  Mozilla/5.0 (Macintosh; U; Intel Mac OS X 10_7...   \n",
       "9998  Mozilla/5.0 (Macintosh; Intel Mac OS X 10_8_8;...   \n",
       "9999  Mozilla/5.0 (X11; Linux i686; rv:1.9.5.20) Gec...   \n",
       "\n",
       "                       Company       Credit Card CC Exp Date  \\\n",
       "9995             Randall-Sloan   342945015358701       03/22   \n",
       "9996  Hale, Collins and Wilson   210033169205009       07/25   \n",
       "9997              Anderson Ltd  6011539787356311       05/21   \n",
       "9998                  Cook Inc   180003348082930       11/17   \n",
       "9999                Greene Inc  4139972901927273       02/19   \n",
       "\n",
       "      CC Security Code       CC Provider                    Email  \\\n",
       "9995               838      JCB 15 digit   iscott@wade-garner.com   \n",
       "9996               207      JCB 16 digit       mary85@hotmail.com   \n",
       "9997                 1     VISA 16 digit        tyler16@gmail.com   \n",
       "9998               987  American Express  elizabethmoore@reid.net   \n",
       "9999               302      JCB 15 digit    rachelford@vaughn.com   \n",
       "\n",
       "                           Job       IP Address Language  Purchase Price  \n",
       "9995                Printmaker    29.73.197.114       it           82.21  \n",
       "9996           Energy engineer   121.133.168.51       pt           25.63  \n",
       "9997        Veterinary surgeon    156.210.0.254       el           83.98  \n",
       "9998  Local government officer     55.78.26.143       es           38.84  \n",
       "9999    Embryologist, clinical  176.119.198.199       el           67.59  "
      ]
     },
     "execution_count": 7,
     "metadata": {},
     "output_type": "execute_result"
    }
   ],
   "source": [
    "data.tail()"
   ]
  },
  {
   "cell_type": "code",
   "execution_count": 8,
   "id": "09f4117b-b9cb-45cf-8737-d80e3aca107f",
   "metadata": {},
   "outputs": [
    {
     "data": {
      "text/plain": [
       "Address              object\n",
       "Lot                  object\n",
       "AM or PM             object\n",
       "Browser Info         object\n",
       "Company              object\n",
       "Credit Card           int64\n",
       "CC Exp Date          object\n",
       "CC Security Code      int64\n",
       "CC Provider          object\n",
       "Email                object\n",
       "Job                  object\n",
       "IP Address           object\n",
       "Language             object\n",
       "Purchase Price      float64\n",
       "dtype: object"
      ]
     },
     "execution_count": 8,
     "metadata": {},
     "output_type": "execute_result"
    }
   ],
   "source": [
    "data.dtypes"
   ]
  },
  {
   "cell_type": "code",
   "execution_count": 9,
   "id": "6ecd79c0-29df-42d0-98a3-c0dfdff82074",
   "metadata": {},
   "outputs": [
    {
     "data": {
      "text/plain": [
       "Address             0\n",
       "Lot                 0\n",
       "AM or PM            0\n",
       "Browser Info        0\n",
       "Company             0\n",
       "Credit Card         0\n",
       "CC Exp Date         0\n",
       "CC Security Code    0\n",
       "CC Provider         0\n",
       "Email               0\n",
       "Job                 0\n",
       "IP Address          0\n",
       "Language            0\n",
       "Purchase Price      0\n",
       "dtype: int64"
      ]
     },
     "execution_count": 9,
     "metadata": {},
     "output_type": "execute_result"
    }
   ],
   "source": [
    "data.isnull().sum()"
   ]
  },
  {
   "cell_type": "code",
   "execution_count": 10,
   "id": "aeb813b2-26da-418a-827d-9e3bc0b8618a",
   "metadata": {},
   "outputs": [
    {
     "data": {
      "text/plain": [
       "Index(['Address', 'Lot', 'AM or PM', 'Browser Info', 'Company', 'Credit Card',\n",
       "       'CC Exp Date', 'CC Security Code', 'CC Provider', 'Email', 'Job',\n",
       "       'IP Address', 'Language', 'Purchase Price'],\n",
       "      dtype='object')"
      ]
     },
     "execution_count": 10,
     "metadata": {},
     "output_type": "execute_result"
    }
   ],
   "source": [
    "data.columns"
   ]
  },
  {
   "cell_type": "code",
   "execution_count": 11,
   "id": "2e7e6c27-7006-41a2-b69e-c38bada5bbfd",
   "metadata": {},
   "outputs": [
    {
     "data": {
      "text/plain": [
       "99.99"
      ]
     },
     "execution_count": 11,
     "metadata": {},
     "output_type": "execute_result"
    }
   ],
   "source": [
    "data[\"Purchase Price\"].max()"
   ]
  },
  {
   "cell_type": "code",
   "execution_count": 12,
   "id": "33e513cf-a9e1-4cb2-a5a8-016758aab947",
   "metadata": {},
   "outputs": [
    {
     "data": {
      "text/plain": [
       "0.0"
      ]
     },
     "execution_count": 12,
     "metadata": {},
     "output_type": "execute_result"
    }
   ],
   "source": [
    "data[\"Purchase Price\"].min()"
   ]
  },
  {
   "cell_type": "code",
   "execution_count": 13,
   "id": "6e53a9fb-e010-4086-bbb5-badac0be7fd2",
   "metadata": {},
   "outputs": [
    {
     "data": {
      "text/plain": [
       "50.347302"
      ]
     },
     "execution_count": 13,
     "metadata": {},
     "output_type": "execute_result"
    }
   ],
   "source": [
    "data[\"Purchase Price\"].mean()"
   ]
  },
  {
   "cell_type": "code",
   "execution_count": 14,
   "id": "957e7326-10ce-4979-b074-e7371dcd970d",
   "metadata": {},
   "outputs": [
    {
     "data": {
      "text/plain": [
       "array(['el', 'fr', 'de', 'es', 'ru', 'pt', 'zh', 'en', 'it'], dtype=object)"
      ]
     },
     "execution_count": 14,
     "metadata": {},
     "output_type": "execute_result"
    }
   ],
   "source": [
    "data['Language'].unique()"
   ]
  },
  {
   "cell_type": "code",
   "execution_count": 15,
   "id": "52753afb-71de-499e-8021-562804eed01f",
   "metadata": {},
   "outputs": [
    {
     "data": {
      "text/plain": [
       "1097"
      ]
     },
     "execution_count": 15,
     "metadata": {},
     "output_type": "execute_result"
    }
   ],
   "source": [
    "len(data[data['Language']==\"fr\"])"
   ]
  },
  {
   "cell_type": "code",
   "execution_count": 16,
   "id": "8c71466b-3571-4836-9ba8-a628210394d8",
   "metadata": {},
   "outputs": [
    {
     "data": {
      "text/plain": [
       "Address             1097\n",
       "Lot                 1097\n",
       "AM or PM            1097\n",
       "Browser Info        1097\n",
       "Company             1097\n",
       "Credit Card         1097\n",
       "CC Exp Date         1097\n",
       "CC Security Code    1097\n",
       "CC Provider         1097\n",
       "Email               1097\n",
       "Job                 1097\n",
       "IP Address          1097\n",
       "Language            1097\n",
       "Purchase Price      1097\n",
       "dtype: int64"
      ]
     },
     "execution_count": 16,
     "metadata": {},
     "output_type": "execute_result"
    }
   ],
   "source": [
    "data[data['Language']==\"fr\"].count()"
   ]
  },
  {
   "cell_type": "code",
   "execution_count": 17,
   "id": "a340fb9c-e4b0-4218-a59b-2c522fd82f98",
   "metadata": {},
   "outputs": [
    {
     "data": {
      "text/plain": [
       "array(['Scientist, product/process development', 'Drilling engineer',\n",
       "       'Customer service manager', 'Fine artist', 'Fish farm manager',\n",
       "       'Dancer', 'Event organiser', 'Financial manager',\n",
       "       'Forensic scientist', 'Development worker, community',\n",
       "       'Diagnostic radiographer', 'Surveyor, quantity',\n",
       "       'Accountant, chartered public finance', 'Acupuncturist',\n",
       "       'Retail manager', 'Therapist, art', 'Designer, jewellery',\n",
       "       'Photographer', 'Designer, interior/spatial',\n",
       "       'Public relations officer', 'Presenter, broadcasting',\n",
       "       'Field seismologist', 'Musician',\n",
       "       'Training and development officer', \"Barrister's clerk\",\n",
       "       'Careers adviser', 'Scientist, research (life sciences)',\n",
       "       'Recycling officer', 'Fisheries officer', 'Sales executive',\n",
       "       'Civil Service fast streamer', 'Theatre stage manager',\n",
       "       'Therapist, music', 'Lecturer, further education',\n",
       "       'Animal technologist', 'Psychologist, occupational',\n",
       "       'Music therapist', 'Minerals surveyor',\n",
       "       'Tourist information centre manager', 'Tax inspector',\n",
       "       'Buyer, industrial', 'Purchasing manager', 'Heritage manager',\n",
       "       'Games developer', 'Facilities manager', 'Chemist, analytical',\n",
       "       'Horticulturist, amenity', 'Mechanical engineer',\n",
       "       'Clinical research associate', 'Technical author',\n",
       "       'Radio broadcast assistant', 'Engineer, broadcasting (operations)',\n",
       "       'Clothing/textile technologist', 'Holiday representative',\n",
       "       'Housing manager/officer', 'Teacher, special educational needs',\n",
       "       'Engineer, agricultural', 'Buyer, retail',\n",
       "       'Doctor, general practice', 'Hotel manager',\n",
       "       'Engineer, civil (consulting)', 'General practice doctor',\n",
       "       'Jewellery designer', 'Therapist, speech and language',\n",
       "       'Operational researcher', 'Graphic designer',\n",
       "       'Editorial assistant', 'Financial adviser', 'Paramedic',\n",
       "       'Secretary, company', 'Paediatric nurse',\n",
       "       'Data processing manager', 'Print production planner',\n",
       "       'Engineer, materials', 'Economist', 'Designer, furniture',\n",
       "       'Human resources officer', 'Administrator',\n",
       "       'Teacher, secondary school', 'Video editor',\n",
       "       'Chartered certified accountant',\n",
       "       'Teacher, English as a foreign language', 'Airline pilot',\n",
       "       'Engineer, land', 'Legal secretary', 'Administrator, arts',\n",
       "       'Dealer', 'Town planner', 'Travel agency manager',\n",
       "       'Engineer, water', 'Lecturer, higher education',\n",
       "       'Higher education careers adviser', 'Intelligence analyst',\n",
       "       'Technical sales engineer', 'Dietitian',\n",
       "       'International aid/development worker',\n",
       "       'Learning disability nurse', 'Geneticist, molecular',\n",
       "       'Optometrist', 'Building surveyor', 'Sports therapist',\n",
       "       'Geophysical data processor', 'Multimedia programmer',\n",
       "       'Research scientist (maths)', 'Social worker', 'Camera operator',\n",
       "       'Interpreter', 'Furniture designer', 'Commercial horticulturist',\n",
       "       'Surgeon', 'Psychotherapist, dance movement',\n",
       "       'Information systems manager', 'Music tutor',\n",
       "       'Merchandiser, retail', 'Insurance risk surveyor',\n",
       "       'Armed forces operational officer', 'Homeopath',\n",
       "       'Animal nutritionist', 'Tourism officer', 'Cabin crew',\n",
       "       'Psychiatric nurse', 'Magazine features editor',\n",
       "       'Chartered management accountant', 'Market researcher',\n",
       "       'Mudlogger', 'Textile designer', 'Restaurant manager, fast food',\n",
       "       'Medical laboratory scientific officer',\n",
       "       'Chartered public finance accountant', 'Financial trader',\n",
       "       'Scientist, marine', 'Environmental manager',\n",
       "       'Community education officer', 'Solicitor',\n",
       "       'Psychologist, clinical', 'Occupational therapist',\n",
       "       'Retail merchandiser', 'Mental health nurse', 'Ophthalmologist',\n",
       "       'Insurance underwriter', 'Engineer, aeronautical',\n",
       "       'Chartered accountant', 'Environmental health practitioner',\n",
       "       'Research scientist (life sciences)', 'Wellsite geologist',\n",
       "       'Product designer', 'Armed forces technical officer',\n",
       "       'Television/film/video producer', 'Water quality scientist',\n",
       "       'Furniture conservator/restorer', 'Radio producer',\n",
       "       'Programmer, multimedia', 'Scientist, biomedical',\n",
       "       'Psychologist, sport and exercise', 'Merchant navy officer',\n",
       "       'Designer, television/film set', 'Engineering geologist',\n",
       "       'Health and safety inspector', 'Naval architect', 'Chiropodist',\n",
       "       'Engineer, chemical', 'Scientist, research (medical)',\n",
       "       'Personal assistant', 'Retail banker',\n",
       "       'Advertising account planner', 'Art therapist',\n",
       "       'Forest/woodland manager', 'Research scientist (medical)',\n",
       "       'Scientific laboratory technician', 'Licensed conveyancer',\n",
       "       'Engineer, building services', 'Energy engineer', 'Teacher, music',\n",
       "       'Oncologist', 'Brewing technologist', 'Community arts worker',\n",
       "       'Therapist, drama', 'Water engineer', 'Software engineer',\n",
       "       'Geochemist', 'Designer, industrial/product',\n",
       "       'Nature conservation officer',\n",
       "       'Production designer, theatre/television/film',\n",
       "       'Commercial art gallery manager', 'Exhibition designer',\n",
       "       'Education officer, environmental',\n",
       "       'Runner, broadcasting/film/video', 'Pharmacist, hospital',\n",
       "       'Doctor, hospital', 'Teacher, adult education', 'Sub',\n",
       "       'Podiatrist', 'Air broker', 'Engineer, civil (contracting)',\n",
       "       'Lexicographer', 'Speech and language therapist',\n",
       "       'Catering manager', 'Colour technologist', 'Surveyor, building',\n",
       "       'Agricultural consultant', 'Horticultural therapist',\n",
       "       'Pension scheme manager', 'Theatre manager', 'Producer, radio',\n",
       "       'Scientist, forensic', 'Surveyor, insurance',\n",
       "       'Hospital pharmacist', 'Surveyor, rural practice',\n",
       "       'Industrial/product designer', 'Corporate treasurer',\n",
       "       'Structural engineer', 'Research officer, trade union',\n",
       "       'Pensions consultant', 'Secretary/administrator', 'Firefighter',\n",
       "       'Database administrator', 'Health promotion specialist',\n",
       "       'Operations geologist', 'Regulatory affairs officer',\n",
       "       'Production assistant, radio', 'Press sub',\n",
       "       'Education administrator', 'Biomedical scientist', 'Tour manager',\n",
       "       'Midwife', 'Television floor manager', 'Mining engineer',\n",
       "       'Interior and spatial designer', 'Engineer, energy',\n",
       "       'Publishing rights manager', 'Manufacturing systems engineer',\n",
       "       'Designer, exhibition/display',\n",
       "       'Control and instrumentation engineer', 'Ergonomist',\n",
       "       'Scientist, research (maths)', 'Psychologist, forensic',\n",
       "       'Clinical scientist, histocompatibility and immunogenetics',\n",
       "       'Accommodation manager', 'Administrator, sports',\n",
       "       'Sports development officer', 'Educational psychologist',\n",
       "       'Social research officer, government', 'Quarry manager',\n",
       "       'Medical sales representative', 'Consulting civil engineer',\n",
       "       'Trade union research officer', 'Financial planner',\n",
       "       'Futures trader', 'Medical illustrator', 'Engineer, structural',\n",
       "       'Transport planner', 'Special educational needs teacher',\n",
       "       'Chiropractor', 'Therapist, sports',\n",
       "       'Scientist, research (physical sciences)', 'Site engineer',\n",
       "       'Psychologist, counselling', 'Bonds trader', 'Banker',\n",
       "       'Proofreader', 'Social researcher', 'Analytical chemist',\n",
       "       'Dramatherapist', 'Editor, commissioning', 'Sports administrator',\n",
       "       'Sport and exercise psychologist', 'Garment/textile technologist',\n",
       "       'Engineer, maintenance (IT)', 'Surveyor, building control',\n",
       "       'Media planner', 'Statistician', 'Food technologist',\n",
       "       'Chartered loss adjuster', 'Petroleum engineer',\n",
       "       'Engineer, maintenance', 'Television camera operator',\n",
       "       'Geoscientist', 'Printmaker', 'Artist', 'Hospital doctor',\n",
       "       'Systems analyst', 'Radiographer, therapeutic',\n",
       "       'Freight forwarder', 'Call centre manager', 'Theatre director',\n",
       "       'Occupational psychologist', 'Communications engineer',\n",
       "       'Land/geomatics surveyor', 'Advertising account executive',\n",
       "       'Civil engineer, consulting', 'Medical secretary',\n",
       "       'IT technical support officer', 'Advice worker',\n",
       "       'Visual merchandiser', 'Nurse, mental health',\n",
       "       'Further education lecturer', 'Investment banker, corporate',\n",
       "       'Bookseller', 'Engineer, production', 'Health visitor',\n",
       "       'Archivist', 'Recruitment consultant',\n",
       "       'Conservator, museum/gallery', 'Translator', 'Youth worker',\n",
       "       'Operational investment banker',\n",
       "       'Radiation protection practitioner',\n",
       "       'Research officer, political party', 'Make',\n",
       "       'Horticulturist, commercial', 'Surveyor, hydrographic',\n",
       "       'Engineer, communications', 'Surveyor, minerals', 'Hydrologist',\n",
       "       'Race relations officer', 'Quantity surveyor',\n",
       "       'Geologist, wellsite', 'Museum/gallery conservator',\n",
       "       'Community pharmacist', 'Adult guidance worker',\n",
       "       'Building control surveyor', 'Museum/gallery exhibitions officer',\n",
       "       'Ambulance person', 'Probation officer', 'Orthoptist',\n",
       "       'Charity officer', 'Risk analyst', 'Best boy',\n",
       "       'Arts administrator',\n",
       "       'Lighting technician, broadcasting/film/video',\n",
       "       'Engineer, drilling', 'Engineer, control and instrumentation',\n",
       "       'Medical physicist', 'Dispensing optician',\n",
       "       'Management consultant', 'Commercial/residential surveyor',\n",
       "       'English as a foreign language teacher', 'Engineer, site',\n",
       "       'Automotive engineer', 'Air traffic controller', 'Lawyer',\n",
       "       'Contracting civil engineer', 'Psychotherapist, child',\n",
       "       'Maintenance engineer', 'Science writer',\n",
       "       'Administrator, education', 'Administrator, Civil Service',\n",
       "       'Estate manager/land agent', 'Company secretary',\n",
       "       'Therapist, horticultural', 'Broadcast engineer',\n",
       "       'Sound technician, broadcasting/film/video',\n",
       "       'Private music teacher', 'Engineer, manufacturing',\n",
       "       'Emergency planning/management officer', 'Risk manager',\n",
       "       'IT consultant', 'Geographical information systems officer',\n",
       "       'Equities trader', 'Immigration officer',\n",
       "       'Therapeutic radiographer', 'Curator', 'Child psychotherapist',\n",
       "       'Advertising art director', 'Forensic psychologist',\n",
       "       'Hydrographic surveyor', 'Immunologist', 'Sports coach',\n",
       "       'Haematologist', 'Waste management officer',\n",
       "       'Conservator, furniture', 'Research officer, government',\n",
       "       'Agricultural engineer', 'IT sales professional',\n",
       "       'Armed forces logistics/support/administrative officer',\n",
       "       'Field trials officer', 'Psychotherapist', 'Air cabin crew',\n",
       "       'Psychiatrist', 'Illustrator', 'Marine scientist',\n",
       "       'Multimedia specialist', 'Cytogeneticist',\n",
       "       'Occupational hygienist', 'Charity fundraiser',\n",
       "       'Planning and development surveyor', 'Counselling psychologist',\n",
       "       'Physicist, medical', 'TEFL teacher',\n",
       "       'Research scientist (physical sciences)', 'Fashion designer',\n",
       "       'Engineer, petroleum', 'Tree surgeon',\n",
       "       'Corporate investment banker', 'Public house manager',\n",
       "       'Designer, textile', 'Public librarian',\n",
       "       'Arts development officer', 'Actor', 'Hydrogeologist',\n",
       "       'Production assistant, television', 'Embryologist, clinical',\n",
       "       'Press photographer', 'Marketing executive',\n",
       "       'Television production assistant', 'Early years teacher',\n",
       "       'Landscape architect', 'Librarian, academic', 'Web designer',\n",
       "       'Health service manager', 'Clinical psychologist',\n",
       "       'Exercise physiologist', 'Electrical engineer',\n",
       "       'Psychologist, prison and probation services',\n",
       "       'Journalist, magazine', 'Dance movement psychotherapist',\n",
       "       'Animator', 'Legal executive', 'Plant breeder/geneticist',\n",
       "       'Manufacturing engineer', 'Microbiologist', 'Biochemist, clinical',\n",
       "       'Broadcast presenter', 'Ranger/warden',\n",
       "       'Programme researcher, broadcasting/film/video', 'Dentist',\n",
       "       'Aid worker', 'Publishing copy', 'Environmental education officer',\n",
       "       'Librarian, public', 'Phytotherapist', 'Nurse, adult',\n",
       "       'Programmer, systems', 'Scientist, physiological',\n",
       "       'Secondary school teacher', 'Media buyer', 'Trade mark attorney',\n",
       "       'Editor, film/video', 'Careers information officer',\n",
       "       'Retail buyer', 'Ship broker', 'Lobbyist', 'Location manager',\n",
       "       'Surveyor, mining', 'Systems developer', 'Optician, dispensing',\n",
       "       'Chemical engineer', 'Oceanographer', 'Patent attorney',\n",
       "       'Passenger transport manager', 'Glass blower/designer',\n",
       "       'Psychologist, educational', 'Education officer, museum',\n",
       "       'Patent examiner', 'Logistics and distribution manager',\n",
       "       'Trading standards officer', 'Seismic interpreter',\n",
       "       'Local government officer', 'Clinical cytogeneticist',\n",
       "       'Biomedical engineer', 'Diplomatic Services operational officer',\n",
       "       'Land', 'Surveyor, planning and development', 'Farm manager',\n",
       "       'Claims inspector/assessor', 'Warden/ranger',\n",
       "       'Civil engineer, contracting', 'Clinical molecular geneticist',\n",
       "       'Surveyor, land/geomatics', 'Therapist, nutritional',\n",
       "       'Historic buildings inspector/conservation officer',\n",
       "       'English as a second language teacher', 'Materials engineer',\n",
       "       'Insurance broker', 'Ecologist', 'Production manager',\n",
       "       'Veterinary surgeon', 'Pilot, airline', \"Nurse, children's\",\n",
       "       'Astronomer', 'Architect', 'Conservation officer, nature',\n",
       "       'Personnel officer', 'Network engineer', 'Investment analyst',\n",
       "       'Writer', 'Designer, fashion/clothing', 'Theme park manager',\n",
       "       'Engineer, electrical', 'Art gallery manager', 'Office manager',\n",
       "       'Pharmacologist', 'Meteorologist', 'Estate agent',\n",
       "       \"Politician's assistant\", 'Environmental consultant', 'Osteopath',\n",
       "       'Amenity horticulturist', 'Physiological scientist',\n",
       "       'Public relations account executive',\n",
       "       'Senior tax professional/tax inspector', 'Arboriculturist',\n",
       "       'Radiographer, diagnostic', 'Engineer, automotive',\n",
       "       'Editor, magazine features', 'Sales professional, IT',\n",
       "       'Commissioning editor', 'Ceramics designer',\n",
       "       'Scientist, clinical (histocompatibility and immunogenetics)',\n",
       "       'Geologist, engineering', 'Designer, multimedia',\n",
       "       'Engineer, manufacturing systems', 'Clinical embryologist',\n",
       "       'Medical technical officer', 'Teacher, primary school',\n",
       "       'Set designer', 'Producer, television/film/video',\n",
       "       'Education officer, community',\n",
       "       'Conservation officer, historic buildings',\n",
       "       'Insurance account manager', 'Financial controller',\n",
       "       'Film/video editor', 'Museum/gallery curator',\n",
       "       'Accounting technician', 'Stage manager', 'Physiotherapist',\n",
       "       'Sales promotion account executive', 'Horticultural consultant',\n",
       "       'Journalist, broadcasting', 'Health and safety adviser',\n",
       "       'Building services engineer',\n",
       "       'Product/process development scientist', 'Metallurgist',\n",
       "       'Audiological scientist', 'Designer, blown glass/stained glass',\n",
       "       'Tax adviser', 'Industrial buyer',\n",
       "       'Government social research officer',\n",
       "       'Outdoor activities/education manager', 'Solicitor, Scotland',\n",
       "       'Conference centre manager', 'Health physicist',\n",
       "       'Pharmacist, community', 'Applications developer',\n",
       "       'Public affairs consultant', 'Prison officer',\n",
       "       'Production engineer', 'Actuary', 'Museum education officer',\n",
       "       'Fitness centre manager', 'Records manager',\n",
       "       'Journalist, newspaper', 'Computer games developer',\n",
       "       'Toxicologist', 'Counsellor', 'Therapist, occupational',\n",
       "       'Accountant, chartered certified', 'Insurance claims handler',\n",
       "       'Programmer, applications', 'Accountant, chartered management',\n",
       "       'Broadcast journalist', 'Energy manager', 'Barrister',\n",
       "       'Scientist, audiological', 'Designer, graphic', 'Cartographer',\n",
       "       'Community development worker', 'Engineer, mining',\n",
       "       'Special effects artist', 'Gaffer', 'Civil Service administrator',\n",
       "       'Armed forces training and education officer', 'Quality manager',\n",
       "       'Engineer, electronics', 'Development worker, international aid',\n",
       "       'Restaurant manager', 'Architectural technologist',\n",
       "       'Academic librarian', 'Fast food restaurant manager',\n",
       "       'Rural practice surveyor', 'Designer, ceramics/pottery',\n",
       "       'Police officer', 'Soil scientist', 'Technical brewer',\n",
       "       'Administrator, local government', 'Copywriter, advertising',\n",
       "       'Volunteer coordinator', 'Magazine journalist',\n",
       "       'Information officer', 'Copy', 'Advertising copywriter',\n",
       "       'Engineer, biomedical', 'Nurse, learning disability',\n",
       "       'Aeronautical engineer', 'Archaeologist', 'IT trainer',\n",
       "       'Clinical biochemist',\n",
       "       'Administrator, charities/voluntary organisations', 'Pathologist',\n",
       "       'Geophysicist/field seismologist',\n",
       "       'Investment banker, operational', 'Teacher, early years/pre',\n",
       "       'Electronics engineer', 'Exhibitions officer, museum/gallery',\n",
       "       'Nutritional therapist', 'Teaching laboratory technician',\n",
       "       'Herbalist', 'Leisure centre manager', 'Higher education lecturer',\n",
       "       'Newspaper journalist', 'Accountant, chartered',\n",
       "       'Loss adjuster, chartered', 'Surveyor, commercial/residential',\n",
       "       'Warehouse manager', 'Scientist, water quality',\n",
       "       'Primary school teacher',\n",
       "       'Chartered legal executive (England and Wales)',\n",
       "       'Telecommunications researcher', 'Equality and diversity officer',\n",
       "       'Learning mentor', 'Financial risk analyst',\n",
       "       'Engineer, technical sales', 'Adult nurse'], dtype=object)"
      ]
     },
     "execution_count": 17,
     "metadata": {},
     "output_type": "execute_result"
    }
   ],
   "source": [
    "data[\"Job\"].unique()"
   ]
  },
  {
   "cell_type": "code",
   "execution_count": 18,
   "id": "153a13b2-21b1-41d7-bb55-537fd6884c64",
   "metadata": {},
   "outputs": [
    {
     "data": {
      "text/plain": [
       "984"
      ]
     },
     "execution_count": 18,
     "metadata": {},
     "output_type": "execute_result"
    }
   ],
   "source": [
    "len(data[data['Job'].str.contains(\"engineer\",case=False)])"
   ]
  },
  {
   "cell_type": "code",
   "execution_count": 19,
   "id": "c1b926f2-8adc-4d11-bab3-dfce989fb3d9",
   "metadata": {},
   "outputs": [
    {
     "data": {
      "text/plain": [
       "2    amymiller@morales-harrison.com\n",
       "Name: Email, dtype: object"
      ]
     },
     "execution_count": 19,
     "metadata": {},
     "output_type": "execute_result"
    }
   ],
   "source": [
    "#Find Email of the person with the following IP address \n",
    "\n",
    "data[\"Email\"][data['IP Address']=='132.207.160.22']"
   ]
  },
  {
   "cell_type": "code",
   "execution_count": 20,
   "id": "d3839a52-53bb-4f17-8902-fe04d0610557",
   "metadata": {},
   "outputs": [
    {
     "data": {
      "text/plain": [
       "Index(['Address', 'Lot', 'AM or PM', 'Browser Info', 'Company', 'Credit Card',\n",
       "       'CC Exp Date', 'CC Security Code', 'CC Provider', 'Email', 'Job',\n",
       "       'IP Address', 'Language', 'Purchase Price'],\n",
       "      dtype='object')"
      ]
     },
     "execution_count": 20,
     "metadata": {},
     "output_type": "execute_result"
    }
   ],
   "source": [
    "data.columns"
   ]
  },
  {
   "cell_type": "code",
   "execution_count": 21,
   "id": "12d61f01-aa4a-4e02-91f2-ea07a2a79f95",
   "metadata": {},
   "outputs": [
    {
     "data": {
      "text/plain": [
       "405"
      ]
     },
     "execution_count": 21,
     "metadata": {},
     "output_type": "execute_result"
    }
   ],
   "source": [
    "#How many person Have Mastercards As their Credit card and made a purchase above 50?\n",
    "\n",
    "len(data[(data['CC Provider']==\"Mastercard\") & (data['Purchase Price']>=50)])"
   ]
  },
  {
   "cell_type": "code",
   "execution_count": 22,
   "id": "3f4c5c70-6b5b-4d98-b84d-0378164b91f0",
   "metadata": {},
   "outputs": [
    {
     "data": {
      "text/plain": [
       "9992    bberry@wright.net\n",
       "Name: Email, dtype: object"
      ]
     },
     "execution_count": 22,
     "metadata": {},
     "output_type": "execute_result"
    }
   ],
   "source": [
    "# Find the email of the person With the following cradit number: 4664825258997302\n",
    "data[\"Email\"][data[\"Credit Card\"]== 4664825258997302]"
   ]
  },
  {
   "cell_type": "code",
   "execution_count": 23,
   "id": "2022f0ee-fefd-4a60-bb2e-64a2330dbb85",
   "metadata": {},
   "outputs": [],
   "source": [
    "# how many person purchases during Am and During PM"
   ]
  },
  {
   "cell_type": "code",
   "execution_count": 24,
   "id": "84800eae-3403-4c67-a0be-f8e407d65349",
   "metadata": {},
   "outputs": [
    {
     "data": {
      "text/plain": [
       "AM or PM\n",
       "PM    5068\n",
       "AM    4932\n",
       "Name: count, dtype: int64"
      ]
     },
     "execution_count": 24,
     "metadata": {},
     "output_type": "execute_result"
    }
   ],
   "source": [
    "data[\"AM or PM\"].value_counts()"
   ]
  },
  {
   "cell_type": "code",
   "execution_count": 31,
   "id": "ad691bef-9def-4ce1-8204-85b75b92ab4a",
   "metadata": {},
   "outputs": [],
   "source": [
    "#How many people have credit cards which will expire in 2020\n",
    "\n"
   ]
  },
  {
   "cell_type": "code",
   "execution_count": 32,
   "id": "0a6c14cc-6a58-4785-b8b2-92a54f462237",
   "metadata": {},
   "outputs": [
    {
     "data": {
      "text/plain": [
       "988"
      ]
     },
     "execution_count": 32,
     "metadata": {},
     "output_type": "execute_result"
    }
   ],
   "source": [
    "len(data[data[\"CC Exp Date\"].apply(lambda x:x[3:]==\"20\")]) #a lambda function is defined, which takes each element x of the\n",
    "                                                      #\"CC Exp Date\" column and checks if the substring starting from the \n",
    "                                                      #4th character(as The date is in mm/yy format,we are interested after 3rd character)\n",
    "                                                      #(x[3:]) until the end of the string is equal to \"20\"."
   ]
  },
  {
   "cell_type": "code",
   "execution_count": 48,
   "id": "e3c95a40-719c-40c6-8ff1-6bd8f3c5c0f6",
   "metadata": {},
   "outputs": [
    {
     "data": {
      "text/plain": [
       "988"
      ]
     },
     "execution_count": 48,
     "metadata": {},
     "output_type": "execute_result"
    }
   ],
   "source": [
    "len(data[data[\"CC Exp Date\"].apply(lambda x:x.split('/')[1]==\"20\")]) #Same as previous, if this delimiter (\"/'') were not present,\n",
    "                                                                     #an alternative approach would involve directly using string slicing.\n",
    "                                                                     #In this case, assuming a fixed format such as 'MM/YY,' we can \n",
    "                                                                     #extract the year portion with the expression x[-2:]. This expression\n",
    "                                                                     #takes the last two characters of the string represented by 'x,' \n",
    "                                                                     #providing the 'YY' part of the credit card expiration date.\"\n"
   ]
  },
  {
   "cell_type": "code",
   "execution_count": 49,
   "id": "9d08a616-d2d8-4036-b206-082dff79bb19",
   "metadata": {},
   "outputs": [
    {
     "data": {
      "text/plain": [
       "Index(['Address', 'Lot', 'AM or PM', 'Browser Info', 'Company', 'Credit Card',\n",
       "       'CC Exp Date', 'CC Security Code', 'CC Provider', 'Email', 'Job',\n",
       "       'IP Address', 'Language', 'Purchase Price'],\n",
       "      dtype='object')"
      ]
     },
     "execution_count": 49,
     "metadata": {},
     "output_type": "execute_result"
    }
   ],
   "source": [
    "#Top 5 most popular Email Providers (e.g. Gmail.com, yahoo.com, etc...)\n",
    "data. columns"
   ]
  },
  {
   "cell_type": "code",
   "execution_count": 41,
   "id": "9e4ebeb4-5c02-4abd-a0f5-4eeeacbe6aa3",
   "metadata": {},
   "outputs": [
    {
     "data": {
      "text/plain": [
       "Email\n",
       "hotmail.com     1638\n",
       "yahoo.com       1616\n",
       "gmail.com       1605\n",
       "smith.com         42\n",
       "williams.com      37\n",
       "Name: count, dtype: int64"
      ]
     },
     "execution_count": 41,
     "metadata": {},
     "output_type": "execute_result"
    }
   ],
   "source": [
    "data[\"Email\"].apply(lambda x:x.split(\"@\")[1]).value_counts().head(5)"
   ]
  },
  {
   "cell_type": "code",
   "execution_count": null,
   "id": "7349392a-f1a0-4d37-b22c-d3a08aa0be55",
   "metadata": {},
   "outputs": [],
   "source": []
  }
 ],
 "metadata": {
  "kernelspec": {
   "display_name": "Python 3 (ipykernel)",
   "language": "python",
   "name": "python3"
  },
  "language_info": {
   "codemirror_mode": {
    "name": "ipython",
    "version": 3
   },
   "file_extension": ".py",
   "mimetype": "text/x-python",
   "name": "python",
   "nbconvert_exporter": "python",
   "pygments_lexer": "ipython3",
   "version": "3.11.5"
  },
  "varInspector": {
   "cols": {
    "lenName": 16,
    "lenType": 16,
    "lenVar": 40
   },
   "kernels_config": {
    "python": {
     "delete_cmd_postfix": "",
     "delete_cmd_prefix": "del ",
     "library": "var_list.py",
     "varRefreshCmd": "print(var_dic_list())"
    },
    "r": {
     "delete_cmd_postfix": ") ",
     "delete_cmd_prefix": "rm(",
     "library": "var_list.r",
     "varRefreshCmd": "cat(var_dic_list()) "
    }
   },
   "types_to_exclude": [
    "module",
    "function",
    "builtin_function_or_method",
    "instance",
    "_Feature"
   ],
   "window_display": false
  },
  "widgets": {
   "application/vnd.jupyter.widget-state+json": {
    "state": {},
    "version_major": 2,
    "version_minor": 0
   }
  }
 },
 "nbformat": 4,
 "nbformat_minor": 5
}
